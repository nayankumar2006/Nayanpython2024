{
  "nbformat": 4,
  "nbformat_minor": 0,
  "metadata": {
    "colab": {
      "provenance": []
    },
    "kernelspec": {
      "name": "python3",
      "display_name": "Python 3"
    },
    "language_info": {
      "name": "python"
    }
  },
  "cells": [
    {
      "cell_type": "code",
      "execution_count": null,
      "metadata": {
        "id": "YDYSrBRhiE2f"
      },
      "outputs": [],
      "source": []
    },
    {
      "cell_type": "code",
      "source": [
        "num1=float(input(\"enter first number:\"))\n",
        "num2=float(input(\"enter second number:\"))\n",
        "num3=float(input(\"enter third number:\"))\n",
        "if num1>=num2 and num1>=num3:\n",
        "  print(\"largest number is:\",num1)\n",
        "elif num2>=num3:\n",
        "  print(\"largest number is:\",num2)\n",
        "else:\n",
        "  print(\"largest number is:\",num3)"
      ],
      "metadata": {
        "colab": {
          "base_uri": "https://localhost:8080/"
        },
        "id": "9amnO7M1g9LW",
        "outputId": "b61fa434-c965-4c14-fead-eb4d15b043cd"
      },
      "execution_count": null,
      "outputs": [
        {
          "output_type": "stream",
          "name": "stdout",
          "text": [
            "enter first number:6\n",
            "enter second number:9\n",
            "enter third number:5\n",
            "largest number is: 9.0\n"
          ]
        }
      ]
    }
  ]
}