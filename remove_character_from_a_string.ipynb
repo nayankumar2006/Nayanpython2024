{
  "nbformat": 4,
  "nbformat_minor": 0,
  "metadata": {
    "colab": {
      "provenance": []
    },
    "kernelspec": {
      "name": "python3",
      "display_name": "Python 3"
    },
    "language_info": {
      "name": "python"
    }
  },
  "cells": [
    {
      "cell_type": "code",
      "execution_count": null,
      "metadata": {
        "id": "iI8mGmitUWEk"
      },
      "outputs": [],
      "source": []
    },
    {
      "cell_type": "code",
      "source": [
        "s=input(\"enter a string:\")\n",
        "result=\"\"\n",
        "for char in s:\n",
        "  if char not in result:\n",
        "    result+=char\n",
        "    print(result)"
      ],
      "metadata": {
        "colab": {
          "base_uri": "https://localhost:8080/"
        },
        "id": "gyiA7SwVT5nc",
        "outputId": "6c6737e5-08b4-4e01-ce50-79abb370e702"
      },
      "execution_count": null,
      "outputs": [
        {
          "output_type": "stream",
          "name": "stdout",
          "text": [
            "enter a string:nanju\n",
            "n\n",
            "na\n",
            "naj\n",
            "naju\n"
          ]
        }
      ]
    }
  ]
}