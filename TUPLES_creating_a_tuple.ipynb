{
  "nbformat": 4,
  "nbformat_minor": 0,
  "metadata": {
    "colab": {
      "provenance": []
    },
    "kernelspec": {
      "name": "python3",
      "display_name": "Python 3"
    },
    "language_info": {
      "name": "python"
    }
  },
  "cells": [
    {
      "cell_type": "code",
      "source": [
        "coordinates=(10,20,30)\n",
        "coordinates"
      ],
      "metadata": {
        "colab": {
          "base_uri": "https://localhost:8080/"
        },
        "id": "eGEecZ0DnSkO",
        "outputId": "a508f7dc-aec6-4b40-ce4e-2fbac335b72c"
      },
      "execution_count": 1,
      "outputs": [
        {
          "output_type": "execute_result",
          "data": {
            "text/plain": [
              "(10, 20, 30)"
            ]
          },
          "metadata": {},
          "execution_count": 1
        }
      ]
    },
    {
      "cell_type": "markdown",
      "source": [
        "ACCESSING ITEMS IN A TUPLE"
      ],
      "metadata": {
        "id": "d5BgGzktnanP"
      }
    },
    {
      "cell_type": "code",
      "source": [
        "print(coordinates[0])"
      ],
      "metadata": {
        "colab": {
          "base_uri": "https://localhost:8080/"
        },
        "id": "N4VtljOWnfRf",
        "outputId": "f62ff91c-ee24-49ee-b1fa-4b6c7bda6f8d"
      },
      "execution_count": 4,
      "outputs": [
        {
          "output_type": "stream",
          "name": "stdout",
          "text": [
            "10\n"
          ]
        }
      ]
    },
    {
      "cell_type": "markdown",
      "source": [
        "DICTIONARY\n",
        "\n",
        "creating a dictionary"
      ],
      "metadata": {
        "id": "1IViIxBbn24v"
      }
    },
    {
      "cell_type": "code",
      "source": [
        "student={\n",
        "    \"name\":\"alice\",\n",
        "    \"age\":20,\n",
        "    \"marks\":85\n",
        "}\n",
        "student"
      ],
      "metadata": {
        "colab": {
          "base_uri": "https://localhost:8080/"
        },
        "id": "IKaSUPbcn65I",
        "outputId": "08d6016d-7962-49de-cdf1-5dc7acf2b4db"
      },
      "execution_count": 5,
      "outputs": [
        {
          "output_type": "execute_result",
          "data": {
            "text/plain": [
              "{'name': 'alice', 'age': 20, 'marks': 85}"
            ]
          },
          "metadata": {},
          "execution_count": 5
        }
      ]
    },
    {
      "cell_type": "markdown",
      "source": [],
      "metadata": {
        "id": "gLPiQ3aKoXa3"
      }
    }
  ]
}