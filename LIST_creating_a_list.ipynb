{
  "nbformat": 4,
  "nbformat_minor": 0,
  "metadata": {
    "colab": {
      "provenance": []
    },
    "kernelspec": {
      "name": "python3",
      "display_name": "Python 3"
    },
    "language_info": {
      "name": "python"
    }
  },
  "cells": [
    {
      "cell_type": "code",
      "execution_count": null,
      "metadata": {
        "id": "fGCezTEBrwwX"
      },
      "outputs": [],
      "source": []
    },
    {
      "cell_type": "code",
      "source": [
        "number=[1,2,3,4,5]\n",
        "mixed=[1,\"hello\",3.14]"
      ],
      "metadata": {
        "id": "bvZJ6NpVaV7T"
      },
      "execution_count": 2,
      "outputs": []
    },
    {
      "cell_type": "markdown",
      "source": [
        "list operations accessing items"
      ],
      "metadata": {
        "id": "GtBuVFAWr_47"
      }
    },
    {
      "cell_type": "code",
      "source": [
        "print(number[0])\n",
        "print(number[-1])"
      ],
      "metadata": {
        "colab": {
          "base_uri": "https://localhost:8080/"
        },
        "id": "uz4AOOljsFc7",
        "outputId": "dde4e78f-052b-4d8f-cfe7-1fd8e147eaee"
      },
      "execution_count": 3,
      "outputs": [
        {
          "output_type": "stream",
          "name": "stdout",
          "text": [
            "1\n",
            "5\n"
          ]
        }
      ]
    },
    {
      "cell_type": "markdown",
      "source": [
        "modifying items"
      ],
      "metadata": {
        "id": "7FHo5SyqsHND"
      }
    },
    {
      "cell_type": "code",
      "source": [],
      "metadata": {
        "id": "2S2V_i1TsP9L"
      },
      "execution_count": null,
      "outputs": []
    },
    {
      "cell_type": "code",
      "source": [
        "number[0]=10\n",
        "print(number)"
      ],
      "metadata": {
        "colab": {
          "base_uri": "https://localhost:8080/"
        },
        "id": "JVVPjSk2bc-s",
        "outputId": "1e9e8467-08c7-488a-e7c1-4da99fa403cc"
      },
      "execution_count": null,
      "outputs": [
        {
          "output_type": "stream",
          "name": "stdout",
          "text": [
            "[10, 2, 3, 4, 5]\n"
          ]
        }
      ]
    },
    {
      "cell_type": "markdown",
      "source": [
        "adding items append()"
      ],
      "metadata": {
        "id": "-fQsstqDsT5T"
      }
    },
    {
      "cell_type": "code",
      "source": [],
      "metadata": {
        "id": "Fi43rGsYsbCz"
      },
      "execution_count": null,
      "outputs": []
    },
    {
      "cell_type": "code",
      "source": [
        "number.append(6)\n",
        "number"
      ],
      "metadata": {
        "colab": {
          "base_uri": "https://localhost:8080/"
        },
        "id": "MzP5p1_6cGTz",
        "outputId": "4fbaebd7-4393-4d2b-a4ae-acf4448cb152"
      },
      "execution_count": null,
      "outputs": [
        {
          "output_type": "execute_result",
          "data": {
            "text/plain": [
              "[10, 2, 3, 4, 5, 6, 6]"
            ]
          },
          "metadata": {},
          "execution_count": 8
        }
      ]
    },
    {
      "cell_type": "markdown",
      "source": [
        "insert():"
      ],
      "metadata": {
        "id": "tGQOklD0sfR7"
      }
    },
    {
      "cell_type": "code",
      "source": [
        "number.insert(1,15)\n",
        "number"
      ],
      "metadata": {
        "colab": {
          "base_uri": "https://localhost:8080/"
        },
        "id": "Lb8km_oWsifL",
        "outputId": "b4136304-dc59-4fcf-8b5e-7e9bc5ad3491"
      },
      "execution_count": 4,
      "outputs": [
        {
          "output_type": "execute_result",
          "data": {
            "text/plain": [
              "[1, 15, 2, 3, 4, 5]"
            ]
          },
          "metadata": {},
          "execution_count": 4
        }
      ]
    },
    {
      "cell_type": "markdown",
      "source": [
        "removing items\n",
        "\n",
        "remove()"
      ],
      "metadata": {
        "id": "eASTS5-zswAT"
      }
    },
    {
      "cell_type": "code",
      "source": [
        "number.pop(2)\n",
        "number"
      ],
      "metadata": {
        "colab": {
          "base_uri": "https://localhost:8080/"
        },
        "id": "xLNv-w1ls4zL",
        "outputId": "21047a9c-194a-4bdc-ae05-c1facdff22c7"
      },
      "execution_count": 5,
      "outputs": [
        {
          "output_type": "execute_result",
          "data": {
            "text/plain": [
              "[1, 15, 3, 4, 5]"
            ]
          },
          "metadata": {},
          "execution_count": 5
        }
      ]
    },
    {
      "cell_type": "markdown",
      "source": [
        "pop()"
      ],
      "metadata": {
        "id": "qBJmLxXEs9-D"
      }
    },
    {
      "cell_type": "code",
      "source": [
        "number.pop(2)\n",
        "number"
      ],
      "metadata": {
        "colab": {
          "base_uri": "https://localhost:8080/"
        },
        "id": "U2tNmSoxtBnj",
        "outputId": "43031f69-1d7c-4fd3-9ea9-e052caf75427"
      },
      "execution_count": 6,
      "outputs": [
        {
          "output_type": "execute_result",
          "data": {
            "text/plain": [
              "[1, 15, 4, 5]"
            ]
          },
          "metadata": {},
          "execution_count": 6
        }
      ]
    },
    {
      "cell_type": "markdown",
      "source": [
        "other operations"
      ],
      "metadata": {
        "id": "Ay9EczTYtYVb"
      }
    },
    {
      "cell_type": "code",
      "source": [
        "#len()\n",
        "len(number)"
      ],
      "metadata": {
        "colab": {
          "base_uri": "https://localhost:8080/"
        },
        "id": "KaNsqh6mtcRz",
        "outputId": "8458c61b-b6da-4785-b0d1-9bf1e6c793c8"
      },
      "execution_count": 7,
      "outputs": [
        {
          "output_type": "execute_result",
          "data": {
            "text/plain": [
              "4"
            ]
          },
          "metadata": {},
          "execution_count": 7
        }
      ]
    },
    {
      "cell_type": "code",
      "source": [
        "#sort\n",
        "number.reverse()\n",
        "number"
      ],
      "metadata": {
        "colab": {
          "base_uri": "https://localhost:8080/"
        },
        "id": "VMYR54oHtjT0",
        "outputId": "94b03f91-2063-48c7-976b-2933b77bb2ce"
      },
      "execution_count": 8,
      "outputs": [
        {
          "output_type": "execute_result",
          "data": {
            "text/plain": [
              "[5, 4, 15, 1]"
            ]
          },
          "metadata": {},
          "execution_count": 8
        }
      ]
    },
    {
      "cell_type": "code",
      "source": [
        "#reverse\n",
        "number.reverse()\n",
        "number"
      ],
      "metadata": {
        "colab": {
          "base_uri": "https://localhost:8080/"
        },
        "id": "5h4gCOlNtvFz",
        "outputId": "e67c086d-9ea0-4e9f-ea33-58dc673ddeae"
      },
      "execution_count": 9,
      "outputs": [
        {
          "output_type": "execute_result",
          "data": {
            "text/plain": [
              "[1, 15, 4, 5]"
            ]
          },
          "metadata": {},
          "execution_count": 9
        }
      ]
    },
    {
      "cell_type": "markdown",
      "source": [
        "iterating through a list"
      ],
      "metadata": {
        "id": "iG153p4Vt2iT"
      }
    },
    {
      "cell_type": "code",
      "source": [
        "for num in number:\n",
        "  print(num)"
      ],
      "metadata": {
        "colab": {
          "base_uri": "https://localhost:8080/"
        },
        "id": "V1K8im7st31k",
        "outputId": "c0feec00-dc96-412f-ef21-4d26049ecf72"
      },
      "execution_count": 10,
      "outputs": [
        {
          "output_type": "stream",
          "name": "stdout",
          "text": [
            "1\n",
            "15\n",
            "4\n",
            "5\n"
          ]
        }
      ]
    }
  ]
}