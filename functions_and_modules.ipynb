{
  "nbformat": 4,
  "nbformat_minor": 0,
  "metadata": {
    "colab": {
      "provenance": []
    },
    "kernelspec": {
      "name": "python3",
      "display_name": "Python 3"
    },
    "language_info": {
      "name": "python"
    }
  },
  "cells": [
    {
      "cell_type": "code",
      "execution_count": 1,
      "metadata": {
        "colab": {
          "base_uri": "https://localhost:8080/"
        },
        "id": "wghdkLESAWbR",
        "outputId": "6c7c2f2e-4d83-4ec5-d98b-1774cdfa7dff"
      },
      "outputs": [
        {
          "output_type": "stream",
          "name": "stdout",
          "text": [
            "hello,alice!\n"
          ]
        }
      ],
      "source": [
        "def greet(name):\n",
        "  print(\"hello,\"+name+\"!\")\n",
        "greet(\"alice\")"
      ]
    }
  ]
}