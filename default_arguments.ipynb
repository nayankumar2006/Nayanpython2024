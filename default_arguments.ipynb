{
  "nbformat": 4,
  "nbformat_minor": 0,
  "metadata": {
    "colab": {
      "provenance": []
    },
    "kernelspec": {
      "name": "python3",
      "display_name": "Python 3"
    },
    "language_info": {
      "name": "python"
    }
  },
  "cells": [
    {
      "cell_type": "code",
      "execution_count": null,
      "metadata": {
        "id": "PBbJTrKZQQSo"
      },
      "outputs": [],
      "source": []
    },
    {
      "cell_type": "code",
      "source": [
        "defreet(name,message=\"hello\"):\n",
        "  print(message+\",\"+name+\"!\")\n",
        "greet(\"alice\")#uses default message\n",
        "greet(\"bob\",\"hi\")"
      ],
      "metadata": {
        "colab": {
          "base_uri": "https://localhost:8080/"
        },
        "id": "Z54NHro_gx12",
        "outputId": "e9c3d73f-0f6a-482f-8bb7-29617822e480"
      },
      "execution_count": null,
      "outputs": [
        {
          "output_type": "stream",
          "name": "stdout",
          "text": [
            "hello,alice!\n",
            "hi,bob!\n"
          ]
        }
      ]
    }
  ]
}