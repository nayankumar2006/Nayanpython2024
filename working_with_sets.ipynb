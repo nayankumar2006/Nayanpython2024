{
  "nbformat": 4,
  "nbformat_minor": 0,
  "metadata": {
    "colab": {
      "provenance": []
    },
    "kernelspec": {
      "name": "python3",
      "display_name": "Python 3"
    },
    "language_info": {
      "name": "python"
    }
  },
  "cells": [
    {
      "cell_type": "code",
      "execution_count": null,
      "metadata": {
        "id": "tnmhnJQbrTtd"
      },
      "outputs": [],
      "source": []
    },
    {
      "cell_type": "code",
      "source": [
        "set1={1,2,3,4}\n",
        "set2={3,4,5,6}\n",
        "print(\"union:\",set1|set2)\n",
        "print(\"intersection:\",set1&set2)\n",
        "print(\"difference:\",set1-set2)"
      ],
      "metadata": {
        "colab": {
          "base_uri": "https://localhost:8080/"
        },
        "id": "SQ_Dni21vdXX",
        "outputId": "b997161a-ab54-494d-f724-008889012ef0"
      },
      "execution_count": null,
      "outputs": [
        {
          "output_type": "stream",
          "name": "stdout",
          "text": [
            "union: {1, 2, 3, 4, 5, 6}\n",
            "intersection: {3, 4}\n",
            "difference: {1, 2}\n"
          ]
        }
      ]
    }
  ]
}