{
  "nbformat": 4,
  "nbformat_minor": 0,
  "metadata": {
    "colab": {
      "provenance": []
    },
    "kernelspec": {
      "name": "python3",
      "display_name": "Python 3"
    },
    "language_info": {
      "name": "python"
    }
  },
  "cells": [
    {
      "cell_type": "code",
      "execution_count": null,
      "metadata": {
        "id": "xumM4oUO-o53"
      },
      "outputs": [],
      "source": []
    },
    {
      "cell_type": "code",
      "source": [
        "with open(\"/content/nanju.txt\",\"r\")as file:\n",
        "  content=file.read()\n",
        "  print(content)"
      ],
      "metadata": {
        "colab": {
          "base_uri": "https://localhost:8080/"
        },
        "id": "_DzIoRlroH7D",
        "outputId": "89b6d376-3d2b-4aac-8c74-dd57b336a9e4"
      },
      "execution_count": null,
      "outputs": [
        {
          "output_type": "stream",
          "name": "stdout",
          "text": [
            "hello,world!\n",
            "nithin m (cobra)\n",
            "omakar(0mi)this is an appended line.|n\n"
          ]
        }
      ]
    }
  ]
}