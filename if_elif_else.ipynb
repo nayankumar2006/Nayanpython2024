{
  "nbformat": 4,
  "nbformat_minor": 0,
  "metadata": {
    "colab": {
      "provenance": []
    },
    "kernelspec": {
      "name": "python3",
      "display_name": "Python 3"
    },
    "language_info": {
      "name": "python"
    }
  },
  "cells": [
    {
      "cell_type": "code",
      "execution_count": null,
      "metadata": {
        "id": "sjNcIkUUB_ay"
      },
      "outputs": [],
      "source": []
    },
    {
      "cell_type": "code",
      "source": [
        "marks=int(input(\"enter your marks:\"))\n",
        "if marks>=90:\n",
        "  print(\"grade: A\")\n",
        "elif marks>=75:\n",
        "  print(\"grade: B\")\n",
        "else:\n",
        "  print(\"grade: F\")\n"
      ],
      "metadata": {
        "colab": {
          "base_uri": "https://localhost:8080/"
        },
        "id": "eAyGdbV85J4g",
        "outputId": "8352f9c2-5443-44b8-d603-f40cb4bfc01a"
      },
      "execution_count": null,
      "outputs": [
        {
          "output_type": "stream",
          "name": "stdout",
          "text": [
            "enter your marks:100\n",
            "grade: A\n"
          ]
        }
      ]
    }
  ]
}