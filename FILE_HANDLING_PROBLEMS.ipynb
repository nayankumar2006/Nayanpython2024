{
  "nbformat": 4,
  "nbformat_minor": 0,
  "metadata": {
    "colab": {
      "provenance": []
    },
    "kernelspec": {
      "name": "python3",
      "display_name": "Python 3"
    },
    "language_info": {
      "name": "python"
    }
  },
  "cells": [
    {
      "cell_type": "markdown",
      "source": [
        "1.creat and write to a file\n",
        "\n",
        "write a program to create a file named data.txt and write the string \"Hello world!\"into it"
      ],
      "metadata": {
        "id": "Dbg9Kynfqtu-"
      }
    },
    {
      "cell_type": "code",
      "source": [
        "with open(\"/content/nanju.txt\",\"w\")as file:\n",
        "  file.write(\"Hello world!\")"
      ],
      "metadata": {
        "id": "FwIjxcApq4ju"
      },
      "execution_count": 1,
      "outputs": []
    },
    {
      "cell_type": "markdown",
      "source": [
        "2.read from a file\n",
        "\n",
        "open data.txt and display its contents on the screen."
      ],
      "metadata": {
        "id": "4xLsSe5Uq_hn"
      }
    },
    {
      "cell_type": "code",
      "source": [
        "with open(\"/content/nanju.txt\",\"r\")as file:\n",
        "  content=file.read()\n",
        "  print(content)"
      ],
      "metadata": {
        "colab": {
          "base_uri": "https://localhost:8080/"
        },
        "id": "ah90-HrsrEtd",
        "outputId": "5b34f45a-4c9b-4fcd-f176-dcb45520a156"
      },
      "execution_count": 3,
      "outputs": [
        {
          "output_type": "stream",
          "name": "stdout",
          "text": [
            "Hello world!welcome to python programming!\n"
          ]
        }
      ]
    },
    {
      "cell_type": "markdown",
      "source": [
        "3.append to a file\n",
        "\n",
        "add the text\"welcome to python programming!\"to data.txt"
      ],
      "metadata": {
        "id": "Hltqv0BjrJnC"
      }
    },
    {
      "cell_type": "code",
      "source": [
        "with open(\"/content/nanju.txt\", \"a\") as file:\n",
        "    file.write(\"welcome to python programming!\")"
      ],
      "metadata": {
        "id": "XNWLJc74rYv2"
      },
      "execution_count": 2,
      "outputs": []
    },
    {
      "cell_type": "markdown",
      "source": [
        "4.count lines in a file\n",
        "\n",
        "count the number of lines in data.txt"
      ],
      "metadata": {
        "id": "2epNXB07rj7A"
      }
    },
    {
      "cell_type": "code",
      "source": [
        "with open(\"/content/nanju.txt\", \"r\") as file:\n",
        "    line_count = sum(1 for line in file)\n",
        "\n",
        "print(f\"The number of lines in data.txt is: {line_count}\")"
      ],
      "metadata": {
        "colab": {
          "base_uri": "https://localhost:8080/"
        },
        "id": "5rRYflC_rrQN",
        "outputId": "9ea1292f-1275-43ad-894d-8e88c5892419"
      },
      "execution_count": 4,
      "outputs": [
        {
          "output_type": "stream",
          "name": "stdout",
          "text": [
            "The number of lines in data.txt is: 1\n"
          ]
        }
      ]
    },
    {
      "cell_type": "markdown",
      "source": [
        "5.count words in a file\n",
        "\n",
        "write a program to count the number of words in data.txt"
      ],
      "metadata": {
        "id": "8KBWDi_ar6p3"
      }
    },
    {
      "cell_type": "code",
      "source": [
        "with open(\"/content/nanju.txt\",\"r\")as file:\n",
        "  content=file.read()\n",
        "  words=content.split()\n",
        "  word_count=len(words)\n",
        "  print(f\"the file has {word_count} words.\")"
      ],
      "metadata": {
        "colab": {
          "base_uri": "https://localhost:8080/"
        },
        "id": "pe6lYzfAsA8R",
        "outputId": "17839233-7244-426f-8557-52f41f2e4797"
      },
      "execution_count": 5,
      "outputs": [
        {
          "output_type": "stream",
          "name": "stdout",
          "text": [
            "the file has 5 words.\n"
          ]
        }
      ]
    },
    {
      "cell_type": "markdown",
      "source": [
        "6.copy file contents\n",
        "\n",
        "create a program that copies the contents of data.txt to a new file called copy.txt\n",
        "\n",
        "\n"
      ],
      "metadata": {
        "id": "DESj3crZsGcG"
      }
    },
    {
      "cell_type": "code",
      "source": [
        "with open(\"/content/nanju.txt\", \"r\") as source_file, open(\"copy.txt\", \"w\") as destination_file:\n",
        "\n",
        "    content = source_file.read()"
      ],
      "metadata": {
        "id": "jFpS3BJzsMMq"
      },
      "execution_count": 6,
      "outputs": []
    },
    {
      "cell_type": "markdown",
      "source": [
        "7.check if file exists\n",
        "\n",
        "check if a file named data.txt exists in the current directory"
      ],
      "metadata": {
        "id": "Oh34HWDssRHy"
      }
    },
    {
      "cell_type": "code",
      "source": [
        "import os\n",
        "file_path = \"/content/nanju.txt\"\n",
        "\n",
        "if os.path.exists(file_path):\n",
        "  print(\"The file exists.\")\n",
        "else:\n",
        "  print(\"The file exists.\")\n"
      ],
      "metadata": {
        "colab": {
          "base_uri": "https://localhost:8080/"
        },
        "id": "_lyAWs1wsVfP",
        "outputId": "accea3db-b20b-4317-f285-d0284341ed90"
      },
      "execution_count": 7,
      "outputs": [
        {
          "output_type": "stream",
          "name": "stdout",
          "text": [
            "The file exists.\n"
          ]
        }
      ]
    },
    {
      "cell_type": "markdown",
      "source": [
        "8.read file line by line\n",
        "\n",
        "read data.txt line by line and print each line"
      ],
      "metadata": {
        "id": "iero4OxxsjR1"
      }
    },
    {
      "cell_type": "code",
      "source": [
        "with open(\"/content/nanju.txt\", \"r\") as file:\n",
        "    for line in file:\n",
        "        print(line, end=\"\")  # end=\"\" to avoid extra newlines"
      ],
      "metadata": {
        "colab": {
          "base_uri": "https://localhost:8080/"
        },
        "id": "ZK5iPqRWsq4-",
        "outputId": "a69b6b69-27cf-4b20-c8f5-9ac05c19c37f"
      },
      "execution_count": 8,
      "outputs": [
        {
          "output_type": "stream",
          "name": "stdout",
          "text": [
            "Hello world!welcome to python programming!"
          ]
        }
      ]
    }
  ]
}