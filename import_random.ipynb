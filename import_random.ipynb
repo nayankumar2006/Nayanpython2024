{
  "nbformat": 4,
  "nbformat_minor": 0,
  "metadata": {
    "colab": {
      "provenance": []
    },
    "kernelspec": {
      "name": "python3",
      "display_name": "Python 3"
    },
    "language_info": {
      "name": "python"
    }
  },
  "cells": [
    {
      "cell_type": "code",
      "execution_count": 1,
      "metadata": {
        "colab": {
          "base_uri": "https://localhost:8080/"
        },
        "id": "-WZHWowqbm0E",
        "outputId": "3542a236-98fb-4be7-b07d-9684e60e10da"
      },
      "outputs": [
        {
          "output_type": "stream",
          "name": "stdout",
          "text": [
            "the random number is: 5\n"
          ]
        }
      ],
      "source": [
        "import random\n",
        "random_number=random.randint(1,6)\n",
        "print(\"the random number is:\",random_number)"
      ]
    }
  ]
}