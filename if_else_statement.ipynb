{
  "nbformat": 4,
  "nbformat_minor": 0,
  "metadata": {
    "colab": {
      "provenance": []
    },
    "kernelspec": {
      "name": "python3",
      "display_name": "Python 3"
    },
    "language_info": {
      "name": "python"
    }
  },
  "cells": [
    {
      "cell_type": "code",
      "execution_count": null,
      "metadata": {
        "id": "MIYRs3-BBhov"
      },
      "outputs": [],
      "source": []
    },
    {
      "cell_type": "code",
      "source": [
        "num=int(input(\"enter a number\"))\n",
        "if num%2==0:\n",
        "        print(\"even number\")\n",
        "else:\n",
        "        print(\"odd number\")\n",
        "\n"
      ],
      "metadata": {
        "colab": {
          "base_uri": "https://localhost:8080/"
        },
        "id": "y1Q_B7wT3hSp",
        "outputId": "66e481b9-11ae-4065-f543-d3f17ab06153"
      },
      "execution_count": null,
      "outputs": [
        {
          "output_type": "stream",
          "name": "stdout",
          "text": [
            "enter a number5\n",
            "odd number\n"
          ]
        }
      ]
    }
  ]
}