{
  "nbformat": 4,
  "nbformat_minor": 0,
  "metadata": {
    "colab": {
      "provenance": []
    },
    "kernelspec": {
      "name": "python3",
      "display_name": "Python 3"
    },
    "language_info": {
      "name": "python"
    }
  },
  "cells": [
    {
      "cell_type": "code",
      "source": [],
      "metadata": {
        "id": "i5BQXy5vo4P4"
      },
      "execution_count": null,
      "outputs": []
    },
    {
      "cell_type": "code",
      "source": [
        "print(student[\"name\"])\n",
        "print"
      ],
      "metadata": {
        "colab": {
          "base_uri": "https://localhost:8080/"
        },
        "id": "xAOIyGyShMOt",
        "outputId": "ef40796f-c5c3-40f6-d110-7d758cf0e35d"
      },
      "execution_count": null,
      "outputs": [
        {
          "output_type": "stream",
          "name": "stdout",
          "text": [
            "alice\n"
          ]
        },
        {
          "output_type": "execute_result",
          "data": {
            "text/plain": [
              "<function print>"
            ]
          },
          "metadata": {},
          "execution_count": 23
        }
      ]
    },
    {
      "cell_type": "markdown",
      "source": [],
      "metadata": {
        "id": "9bMTmmO8o8bX"
      }
    },
    {
      "cell_type": "markdown",
      "source": [
        "modifying:"
      ],
      "metadata": {
        "id": "PPS43TAEhdZy"
      }
    },
    {
      "cell_type": "code",
      "source": [],
      "metadata": {
        "id": "a2HWe8tlpAuO"
      },
      "execution_count": null,
      "outputs": []
    },
    {
      "cell_type": "code",
      "source": [
        "student[\"age\"]=21\n",
        "student"
      ],
      "metadata": {
        "colab": {
          "base_uri": "https://localhost:8080/"
        },
        "id": "TYIm5d-5hh6q",
        "outputId": "264a234c-6646-496b-a0b2-9e3e39d53025"
      },
      "execution_count": null,
      "outputs": [
        {
          "output_type": "execute_result",
          "data": {
            "text/plain": [
              "{'name': 'alice', 'age': 21, 'marks': 85}"
            ]
          },
          "metadata": {},
          "execution_count": 24
        }
      ]
    },
    {
      "cell_type": "markdown",
      "source": [],
      "metadata": {
        "id": "2gC4qRiVpFXw"
      }
    },
    {
      "cell_type": "markdown",
      "source": [
        "adding"
      ],
      "metadata": {
        "id": "ip18s9FVm7EN"
      }
    },
    {
      "cell_type": "code",
      "source": [],
      "metadata": {
        "id": "LEwmPdPDpK4n"
      },
      "execution_count": null,
      "outputs": []
    },
    {
      "cell_type": "code",
      "source": [
        "student[\"grade\"]=\"a\"\n",
        "student"
      ],
      "metadata": {
        "colab": {
          "base_uri": "https://localhost:8080/"
        },
        "id": "F--l1vDQm8pF",
        "outputId": "e8c82edd-b197-40c1-b3a5-d44a0593ad37"
      },
      "execution_count": null,
      "outputs": [
        {
          "output_type": "execute_result",
          "data": {
            "text/plain": [
              "{'name': 'alice', 'age': 21, 'marks': 85, 'grade': 'a'}"
            ]
          },
          "metadata": {},
          "execution_count": 25
        }
      ]
    },
    {
      "cell_type": "markdown",
      "source": [],
      "metadata": {
        "id": "s2WaRTpBpPpv"
      }
    },
    {
      "cell_type": "markdown",
      "source": [
        "removing"
      ],
      "metadata": {
        "id": "NnNRSk1GnDcN"
      }
    },
    {
      "cell_type": "code",
      "source": [],
      "metadata": {
        "id": "aRyk3haNpWff"
      },
      "execution_count": null,
      "outputs": []
    },
    {
      "cell_type": "code",
      "source": [
        "del student[\"marks\"]\n",
        "student"
      ],
      "metadata": {
        "colab": {
          "base_uri": "https://localhost:8080/"
        },
        "id": "uxIBb6_GnFG-",
        "outputId": "6c7dbe1e-6c8b-4df8-b80e-ec1fc15188af"
      },
      "execution_count": null,
      "outputs": [
        {
          "output_type": "execute_result",
          "data": {
            "text/plain": [
              "{'name': 'alice', 'age': 21, 'grade': 'a'}"
            ]
          },
          "metadata": {},
          "execution_count": 28
        }
      ]
    }
  ]
}