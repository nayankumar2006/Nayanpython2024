{
  "nbformat": 4,
  "nbformat_minor": 0,
  "metadata": {
    "colab": {
      "provenance": []
    },
    "kernelspec": {
      "name": "python3",
      "display_name": "Python 3"
    },
    "language_info": {
      "name": "python"
    }
  },
  "cells": [
    {
      "cell_type": "code",
      "execution_count": null,
      "metadata": {
        "id": "D9a9fS8uLOXR"
      },
      "outputs": [],
      "source": []
    },
    {
      "cell_type": "code",
      "source": [
        "start=int(input(\"enter the start of the range:\"))\n",
        "end=int(input(\"enter the end of range:\"))\n",
        "sum=0\n",
        "for i in range(start,end+1):\n",
        "  sum+=i\n",
        "print(\"the sum is:\",sum)"
      ],
      "metadata": {
        "colab": {
          "base_uri": "https://localhost:8080/"
        },
        "id": "26Yvm9DWFRyY",
        "outputId": "cd14f2f3-d82a-4dce-9b29-b3fabb31a4ab"
      },
      "execution_count": null,
      "outputs": [
        {
          "output_type": "stream",
          "name": "stdout",
          "text": [
            "enter the start of the range:6\n",
            "enter the end of range:8\n",
            "the sum is: 21\n"
          ]
        }
      ]
    }
  ]
}