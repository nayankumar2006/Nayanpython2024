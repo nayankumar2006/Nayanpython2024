{
  "nbformat": 4,
  "nbformat_minor": 0,
  "metadata": {
    "colab": {
      "provenance": []
    },
    "kernelspec": {
      "name": "python3",
      "display_name": "Python 3"
    },
    "language_info": {
      "name": "python"
    }
  },
  "cells": [
    {
      "cell_type": "code",
      "execution_count": null,
      "metadata": {
        "id": "h1UhycNVq92m"
      },
      "outputs": [],
      "source": []
    },
    {
      "cell_type": "code",
      "source": [
        "book={\n",
        "    \"title\":\"python basics\",\n",
        "    \"author\":\"john doe\",\n",
        "    \"year\":2022\n",
        "}\n",
        "print(book[\"title\"])\n",
        "book[\"year\"]=2022\n",
        "print(book)"
      ],
      "metadata": {
        "colab": {
          "base_uri": "https://localhost:8080/"
        },
        "id": "LLuKzUbxuqIh",
        "outputId": "148b5568-d131-48ac-a561-a6278248b94e"
      },
      "execution_count": null,
      "outputs": [
        {
          "output_type": "stream",
          "name": "stdout",
          "text": [
            "python basics\n",
            "{'title': 'python basics', 'author': 'john doe', 'year': 2022}\n"
          ]
        }
      ]
    }
  ]
}