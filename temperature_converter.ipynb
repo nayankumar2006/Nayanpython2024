{
  "nbformat": 4,
  "nbformat_minor": 0,
  "metadata": {
    "colab": {
      "provenance": []
    },
    "kernelspec": {
      "name": "python3",
      "display_name": "Python 3"
    },
    "language_info": {
      "name": "python"
    }
  },
  "cells": [
    {
      "cell_type": "code",
      "execution_count": null,
      "metadata": {
        "id": "d9EbGgR-Ehrq"
      },
      "outputs": [],
      "source": []
    },
    {
      "cell_type": "code",
      "source": [
        "celsius=float(input(\"enter temperature in celsius:\"))\n",
        "fahrenheit=(celsius*9/5)+32\n",
        "print(\"temperature in fahrenheit:\",fahrenheit)\n"
      ],
      "metadata": {
        "colab": {
          "base_uri": "https://localhost:8080/"
        },
        "id": "oydAOdJKDpNU",
        "outputId": "dbb57bbd-a418-4af3-e31b-fe4498d4b316"
      },
      "execution_count": null,
      "outputs": [
        {
          "output_type": "stream",
          "name": "stdout",
          "text": [
            "enter temperature in celsius:4\n",
            "temperature in fahrenheit: 39.2\n"
          ]
        }
      ]
    }
  ]
}