{
  "nbformat": 4,
  "nbformat_minor": 0,
  "metadata": {
    "colab": {
      "provenance": []
    },
    "kernelspec": {
      "name": "python3",
      "display_name": "Python 3"
    },
    "language_info": {
      "name": "python"
    }
  },
  "cells": [
    {
      "cell_type": "code",
      "execution_count": null,
      "metadata": {
        "id": "RFIdbvu8_TOY"
      },
      "outputs": [],
      "source": []
    },
    {
      "cell_type": "code",
      "source": [
        "with open(\"/content/tiger.jpg\",\"rb\")as file:\n",
        "  data=file.read()"
      ],
      "metadata": {
        "id": "kFRZAtPtohyV"
      },
      "execution_count": null,
      "outputs": []
    }
  ]
}