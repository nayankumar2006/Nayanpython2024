{
  "nbformat": 4,
  "nbformat_minor": 0,
  "metadata": {
    "colab": {
      "provenance": []
    },
    "kernelspec": {
      "name": "python3",
      "display_name": "Python 3"
    },
    "language_info": {
      "name": "python"
    }
  },
  "cells": [
    {
      "cell_type": "code",
      "execution_count": null,
      "metadata": {
        "id": "dQ_ez9HK9ajt"
      },
      "outputs": [],
      "source": []
    },
    {
      "cell_type": "code",
      "source": [
        "file=open(\"/content/nanju.txt\",\"w\")\n",
        "file.write(\"hello,world!\\n\")\n",
        "file.close()"
      ],
      "metadata": {
        "id": "mayY3YVfme5I"
      },
      "execution_count": null,
      "outputs": []
    }
  ]
}