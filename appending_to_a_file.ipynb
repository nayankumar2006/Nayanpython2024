{
  "nbformat": 4,
  "nbformat_minor": 0,
  "metadata": {
    "colab": {
      "provenance": []
    },
    "kernelspec": {
      "name": "python3",
      "display_name": "Python 3"
    },
    "language_info": {
      "name": "python"
    }
  },
  "cells": [
    {
      "cell_type": "code",
      "execution_count": null,
      "metadata": {
        "id": "HdxtVTEJ-Phg"
      },
      "outputs": [],
      "source": []
    },
    {
      "cell_type": "code",
      "source": [
        "file=open(\"/content/nanju.txt\",\"a\")\n",
        "file.write(\"this is an appended line.|n\")\n",
        "file.close()"
      ],
      "metadata": {
        "id": "jRbKk45Qnh5c"
      },
      "execution_count": null,
      "outputs": []
    }
  ]
}