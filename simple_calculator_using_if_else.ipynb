{
  "nbformat": 4,
  "nbformat_minor": 0,
  "metadata": {
    "colab": {
      "provenance": []
    },
    "kernelspec": {
      "name": "python3",
      "display_name": "Python 3"
    },
    "language_info": {
      "name": "python"
    }
  },
  "cells": [
    {
      "cell_type": "code",
      "execution_count": null,
      "metadata": {
        "id": "yiIXc1k4Y2um"
      },
      "outputs": [],
      "source": []
    },
    {
      "cell_type": "code",
      "source": [
        "num1=float(input(\"enter first number:\"))\n",
        "num2=float(input(\"enter second number:\"))\n",
        "operation=input(\"enter operation(+,-,*,/):\")\n",
        "if operation=='+':\n",
        "  print(\"result:\",num1+num2)\n",
        "elif operation=='-':\n",
        "  print(\"result:\",num1-num2)\n",
        "elif operation=='*':\n",
        "  print(\"result:\",num1*num2)"
      ],
      "metadata": {
        "colab": {
          "base_uri": "https://localhost:8080/"
        },
        "id": "IR0A6-vAUqt2",
        "outputId": "d0accfb7-6477-42f7-e4be-43eac7dd0f59"
      },
      "execution_count": null,
      "outputs": [
        {
          "name": "stdout",
          "output_type": "stream",
          "text": [
            "enter first number:6\n",
            "enter second number:3\n",
            "enter operation(+,-,*,/):2\n"
          ]
        }
      ]
    }
  ]
}