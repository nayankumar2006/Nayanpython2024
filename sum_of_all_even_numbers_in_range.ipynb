{
  "nbformat": 4,
  "nbformat_minor": 0,
  "metadata": {
    "colab": {
      "provenance": []
    },
    "kernelspec": {
      "name": "python3",
      "display_name": "Python 3"
    },
    "language_info": {
      "name": "python"
    }
  },
  "cells": [
    {
      "cell_type": "code",
      "execution_count": null,
      "metadata": {
        "id": "9wESgR-mmyjS"
      },
      "outputs": [],
      "source": []
    },
    {
      "cell_type": "code",
      "source": [
        "start=int(input(\"enter start of range:\"))\n",
        "end=int(input(\"enter end of range:\"))\n",
        "even_sum=0\n",
        "for num in range(start,end+1):\n",
        "  if num % 2==0:\n",
        "    even_sum+=num\n",
        "  print(\"sum of even numbers:\",even_sum)"
      ],
      "metadata": {
        "colab": {
          "base_uri": "https://localhost:8080/"
        },
        "id": "llieis9Xl8T7",
        "outputId": "9121bb18-31f3-4323-e9a5-408bba01b2c2"
      },
      "execution_count": null,
      "outputs": [
        {
          "output_type": "stream",
          "name": "stdout",
          "text": [
            "enter start of range:0\n",
            "enter end of range:10\n",
            "sum of even numbers: 0\n",
            "sum of even numbers: 0\n",
            "sum of even numbers: 2\n",
            "sum of even numbers: 2\n",
            "sum of even numbers: 6\n",
            "sum of even numbers: 6\n",
            "sum of even numbers: 12\n",
            "sum of even numbers: 12\n",
            "sum of even numbers: 20\n",
            "sum of even numbers: 20\n",
            "sum of even numbers: 30\n"
          ]
        }
      ]
    }
  ]
}