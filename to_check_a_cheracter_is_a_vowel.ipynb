{
  "nbformat": 4,
  "nbformat_minor": 0,
  "metadata": {
    "colab": {
      "provenance": []
    },
    "kernelspec": {
      "name": "python3",
      "display_name": "Python 3"
    },
    "language_info": {
      "name": "python"
    }
  },
  "cells": [
    {
      "cell_type": "code",
      "execution_count": null,
      "metadata": {
        "id": "vnaThLdrJy2m"
      },
      "outputs": [],
      "source": []
    },
    {
      "cell_type": "code",
      "source": [
        "char=input(\"enter a character:\")\n",
        "if char in ['a','e','i','o','u']:\n",
        "  print(f\"(char)is a vowel.\")\n",
        "else:\n",
        "  print(f\"{char}is not a vowel.\")"
      ],
      "metadata": {
        "colab": {
          "base_uri": "https://localhost:8080/"
        },
        "id": "lu1Pl4JvHd5y",
        "outputId": "26edc6de-c08f-4eb8-f579-b409b85df349"
      },
      "execution_count": null,
      "outputs": [
        {
          "output_type": "stream",
          "name": "stdout",
          "text": [
            "enter a character:f\n",
            "fis not a vowel.\n"
          ]
        }
      ]
    }
  ]
}