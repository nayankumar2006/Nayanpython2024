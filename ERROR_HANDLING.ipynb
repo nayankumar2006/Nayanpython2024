{
  "nbformat": 4,
  "nbformat_minor": 0,
  "metadata": {
    "colab": {
      "provenance": []
    },
    "kernelspec": {
      "name": "python3",
      "display_name": "Python 3"
    },
    "language_info": {
      "name": "python"
    }
  },
  "cells": [
    {
      "cell_type": "markdown",
      "source": [
        "introduction to error handling\n",
        "\n",
        "try except block"
      ],
      "metadata": {
        "id": "15EIXP3s_uyw"
      }
    },
    {
      "cell_type": "code",
      "source": [],
      "metadata": {
        "id": "bQ28lOpM_xsQ"
      },
      "execution_count": null,
      "outputs": []
    },
    {
      "cell_type": "code",
      "source": [
        "try:\n",
        "  num=int(input(\"enter a number:\"))\n",
        "  print(10/num)\n",
        "except ZeroDivisionError:\n",
        "  print(\"you cannot divide by zero.\")\n",
        "except ValueError:\n",
        "  print(\"invalid input!please enter a number.\")\n"
      ],
      "metadata": {
        "colab": {
          "base_uri": "https://localhost:8080/"
        },
        "id": "iRNk4KNByAA2",
        "outputId": "c7d093b0-8ffe-477d-cbbd-1d67377ff91c"
      },
      "execution_count": null,
      "outputs": [
        {
          "output_type": "stream",
          "name": "stdout",
          "text": [
            "enter a number:10\n",
            "1.0\n"
          ]
        }
      ]
    }
  ]
}