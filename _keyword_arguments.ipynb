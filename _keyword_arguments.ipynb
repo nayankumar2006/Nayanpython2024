{
  "nbformat": 4,
  "nbformat_minor": 0,
  "metadata": {
    "colab": {
      "provenance": []
    },
    "kernelspec": {
      "name": "python3",
      "display_name": "Python 3"
    },
    "language_info": {
      "name": "python"
    }
  },
  "cells": [
    {
      "cell_type": "code",
      "execution_count": null,
      "metadata": {
        "id": "XK0HpAY_RGp1"
      },
      "outputs": [],
      "source": []
    },
    {
      "cell_type": "code",
      "source": [
        "#**keyword arguments\n",
        "def greet(**details):\n",
        "    for key, value in details.items():\n",
        "        print(f\"{key}: {value}\")\n",
        "\n",
        "greet(name=\"likith\", age=18, city=\"bangladesh\")\n"
      ],
      "metadata": {
        "colab": {
          "base_uri": "https://localhost:8080/"
        },
        "id": "eayPV3YvlPo2",
        "outputId": "8d5170ef-6201-4982-edc6-f857f05cd401"
      },
      "execution_count": null,
      "outputs": [
        {
          "output_type": "stream",
          "name": "stdout",
          "text": [
            "name: likith\n",
            "age: 18\n",
            "city: bangladesh\n"
          ]
        }
      ]
    }
  ]
}