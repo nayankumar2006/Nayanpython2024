{
  "nbformat": 4,
  "nbformat_minor": 0,
  "metadata": {
    "colab": {
      "provenance": []
    },
    "kernelspec": {
      "name": "python3",
      "display_name": "Python 3"
    },
    "language_info": {
      "name": "python"
    }
  },
  "cells": [
    {
      "cell_type": "code",
      "execution_count": null,
      "metadata": {
        "id": "yvGwpQaiGYns"
      },
      "outputs": [],
      "source": []
    },
    {
      "cell_type": "code",
      "source": [
        "print(\"enter principle,rate of intrest and time\")\n",
        "p=float(input())\n",
        "r=float(input())\n",
        "t=float(input())\n",
        "si=(p*r*t)/100\n",
        "print(si)"
      ],
      "metadata": {
        "colab": {
          "base_uri": "https://localhost:8080/"
        },
        "id": "bg1uwgW3E_iM",
        "outputId": "282bd76d-552d-4d36-a311-530004ed45eb"
      },
      "execution_count": null,
      "outputs": [
        {
          "output_type": "stream",
          "name": "stdout",
          "text": [
            "enter principle,rate of intrest and time\n",
            "25000\n",
            "7\n",
            "8\n",
            "14000.0\n"
          ]
        }
      ]
    }
  ]
}