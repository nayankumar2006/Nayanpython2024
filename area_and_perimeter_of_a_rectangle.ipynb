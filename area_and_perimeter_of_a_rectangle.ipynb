{
  "nbformat": 4,
  "nbformat_minor": 0,
  "metadata": {
    "colab": {
      "provenance": []
    },
    "kernelspec": {
      "name": "python3",
      "display_name": "Python 3"
    },
    "language_info": {
      "name": "python"
    }
  },
  "cells": [
    {
      "cell_type": "code",
      "execution_count": null,
      "metadata": {
        "id": "06-gGdRwJRFq"
      },
      "outputs": [],
      "source": []
    },
    {
      "cell_type": "code",
      "source": [
        "\n",
        "\n",
        "length = float(input(\"enter length\"))\n",
        "width=float(input(\"enter width\"))\n",
        "area=length*width\n",
        "perimeter=2*(length+width)\n",
        "print(\"area:\",area)\n",
        "print(\"perimeter:\",perimeter)\n"
      ],
      "metadata": {
        "id": "JUpZ1-bHHZN0",
        "colab": {
          "base_uri": "https://localhost:8080/"
        },
        "outputId": "275ad2e9-53d1-4024-9b0f-045892a777d4"
      },
      "execution_count": null,
      "outputs": [
        {
          "output_type": "stream",
          "name": "stdout",
          "text": [
            "enter length5\n",
            "enter width6\n",
            "area: 30.0\n",
            "perimeter: 22.0\n"
          ]
        }
      ]
    }
  ]
}