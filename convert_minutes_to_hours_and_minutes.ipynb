{
  "nbformat": 4,
  "nbformat_minor": 0,
  "metadata": {
    "colab": {
      "provenance": []
    },
    "kernelspec": {
      "name": "python3",
      "display_name": "Python 3"
    },
    "language_info": {
      "name": "python"
    }
  },
  "cells": [
    {
      "cell_type": "code",
      "execution_count": null,
      "metadata": {
        "id": "CIIrRD7WLd2_"
      },
      "outputs": [],
      "source": []
    },
    {
      "cell_type": "code",
      "source": [
        "\n",
        "\n",
        "minutes = int(input(\"Enter the number of minutes: \"))\n",
        "\n",
        "hours = minutes // 60\n",
        "remaining_minutes = minutes % 60\n",
        "\n",
        "print(f\"{minutes} minutes is equal to {hours} hours and {remaining_minutes} minutes.\")"
      ],
      "metadata": {
        "id": "OaZtIrqpJrk0",
        "colab": {
          "base_uri": "https://localhost:8080/"
        },
        "outputId": "a0585ea5-6965-4c90-8e61-88df026dbba7"
      },
      "execution_count": null,
      "outputs": [
        {
          "output_type": "stream",
          "name": "stdout",
          "text": [
            "Enter the number of minutes: 55\n",
            "55 minutes is equal to 0 hours and 55 minutes.\n"
          ]
        }
      ]
    }
  ]
}