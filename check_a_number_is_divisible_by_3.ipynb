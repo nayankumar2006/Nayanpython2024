{
  "nbformat": 4,
  "nbformat_minor": 0,
  "metadata": {
    "colab": {
      "provenance": []
    },
    "kernelspec": {
      "name": "python3",
      "display_name": "Python 3"
    },
    "language_info": {
      "name": "python"
    }
  },
  "cells": [
    {
      "cell_type": "code",
      "execution_count": null,
      "metadata": {
        "id": "2ucT1dP9Kej3"
      },
      "outputs": [],
      "source": []
    },
    {
      "cell_type": "code",
      "source": [
        "dvd=int(input(\"enter a number\"))\n",
        "if dvd/3:\n",
        "  print(\"dvd is divisible by 3\")\n",
        "else:\n",
        "  print(\"dvd is not divisible by 3\")"
      ],
      "metadata": {
        "colab": {
          "base_uri": "https://localhost:8080/"
        },
        "id": "K7TFekFoJHS7",
        "outputId": "d6bfd1f3-3eb2-44ed-bf1e-636a6550afc0"
      },
      "execution_count": null,
      "outputs": [
        {
          "output_type": "stream",
          "name": "stdout",
          "text": [
            "enter a number6\n",
            "dvd is divisible by 3\n"
          ]
        }
      ]
    }
  ]
}