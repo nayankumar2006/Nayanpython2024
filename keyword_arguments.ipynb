{
  "nbformat": 4,
  "nbformat_minor": 0,
  "metadata": {
    "colab": {
      "provenance": []
    },
    "kernelspec": {
      "name": "python3",
      "display_name": "Python 3"
    },
    "language_info": {
      "name": "python"
    }
  },
  "cells": [
    {
      "cell_type": "code",
      "execution_count": null,
      "metadata": {
        "id": "nLVAYeRKBYKL"
      },
      "outputs": [],
      "source": []
    },
    {
      "cell_type": "code",
      "source": [
        "def greet(name,message):\n",
        "  print(message+\",\"+name+\"!\")\n",
        "greet(name=\"alice\",message=\"good morning\")\n"
      ],
      "metadata": {
        "colab": {
          "base_uri": "https://localhost:8080/"
        },
        "id": "86S64vtzf_Dx",
        "outputId": "267199b5-939a-4b0e-83b8-6b2f76c6096d"
      },
      "execution_count": null,
      "outputs": [
        {
          "output_type": "stream",
          "name": "stdout",
          "text": [
            "good morning,alice!\n"
          ]
        }
      ]
    }
  ]
}