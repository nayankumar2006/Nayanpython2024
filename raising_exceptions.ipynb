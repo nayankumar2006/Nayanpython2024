{
  "nbformat": 4,
  "nbformat_minor": 0,
  "metadata": {
    "colab": {
      "provenance": []
    },
    "kernelspec": {
      "name": "python3",
      "display_name": "Python 3"
    },
    "language_info": {
      "name": "python"
    }
  },
  "cells": [
    {
      "cell_type": "code",
      "execution_count": null,
      "metadata": {
        "id": "lOH0cxL2Ae3C"
      },
      "outputs": [],
      "source": []
    },
    {
      "cell_type": "code",
      "source": [
        "def check_age(age):\n",
        "  if age<18:\n",
        "    raise ValueError(\"age must be 18 or older.\")\n",
        "  return True\n",
        "\n",
        "\n",
        "try:\n",
        "  check_age(16)\n",
        "except ValueError as e:\n",
        "  print(e)"
      ],
      "metadata": {
        "colab": {
          "base_uri": "https://localhost:8080/"
        },
        "id": "L9-oiGWe0ir1",
        "outputId": "107d9428-1693-4ec7-a2cc-6001d055c42a"
      },
      "execution_count": null,
      "outputs": [
        {
          "output_type": "stream",
          "name": "stdout",
          "text": [
            "age must be 18 or older.\n"
          ]
        }
      ]
    }
  ]
}