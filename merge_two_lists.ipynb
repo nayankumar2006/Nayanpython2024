{
  "nbformat": 4,
  "nbformat_minor": 0,
  "metadata": {
    "colab": {
      "provenance": []
    },
    "kernelspec": {
      "name": "python3",
      "display_name": "Python 3"
    },
    "language_info": {
      "name": "python"
    }
  },
  "cells": [
    {
      "cell_type": "code",
      "execution_count": null,
      "metadata": {
        "id": "qr3irzJdrmdV"
      },
      "outputs": [],
      "source": []
    },
    {
      "cell_type": "code",
      "source": [
        "list1=[1,2,3]\n",
        "list2=[4,5,6]\n",
        "merged_list=list1+list2\n",
        "print(\"merged list:\",merged_list)"
      ],
      "metadata": {
        "colab": {
          "base_uri": "https://localhost:8080/"
        },
        "id": "F56kGMhawhZQ",
        "outputId": "efebedbe-f1cd-4e10-ca8b-0427c4b95aec"
      },
      "execution_count": null,
      "outputs": [
        {
          "output_type": "stream",
          "name": "stdout",
          "text": [
            "merged list: [1, 2, 3, 4, 5, 6]\n"
          ]
        }
      ]
    }
  ]
}