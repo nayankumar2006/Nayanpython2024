{
  "nbformat": 4,
  "nbformat_minor": 0,
  "metadata": {
    "colab": {
      "provenance": []
    },
    "kernelspec": {
      "name": "python3",
      "display_name": "Python 3"
    },
    "language_info": {
      "name": "python"
    }
  },
  "cells": [
    {
      "cell_type": "code",
      "execution_count": null,
      "metadata": {
        "id": "8HSBI3DKTGKI"
      },
      "outputs": [],
      "source": []
    },
    {
      "cell_type": "code",
      "source": [
        "number=int(input(\"enter the number:\"))\n",
        "if 100<=number<=200:\n",
        "  print(f\"{number} is between 100 and 200\")\n",
        "else:\n",
        "  print(f\"{number} is not between 100 and 200\")"
      ],
      "metadata": {
        "colab": {
          "base_uri": "https://localhost:8080/"
        },
        "id": "NjqmZEh2Q3FG",
        "outputId": "321c8d5d-3c21-44b9-b901-45bd62c7c9a3"
      },
      "execution_count": null,
      "outputs": [
        {
          "output_type": "stream",
          "name": "stdout",
          "text": [
            "enter the number:7\n",
            "7 is not between 100 and 200\n"
          ]
        }
      ]
    }
  ]
}