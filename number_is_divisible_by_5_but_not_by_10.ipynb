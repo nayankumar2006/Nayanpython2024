{
  "nbformat": 4,
  "nbformat_minor": 0,
  "metadata": {
    "colab": {
      "provenance": []
    },
    "kernelspec": {
      "name": "python3",
      "display_name": "Python 3"
    },
    "language_info": {
      "name": "python"
    }
  },
  "cells": [
    {
      "cell_type": "code",
      "execution_count": null,
      "metadata": {
        "id": "BoM4dQsfQT5j"
      },
      "outputs": [],
      "source": []
    },
    {
      "cell_type": "code",
      "source": [
        "num=int(input(\"enter the number:\"))\n",
        "if(num%5==0) and (num%10==0):\n",
        "  print(\"divisible by 5 and 10\")\n",
        "else:\n",
        "  print(\"not divisible by 5 and 10\")"
      ],
      "metadata": {
        "colab": {
          "base_uri": "https://localhost:8080/"
        },
        "id": "yfasME9dPsdf",
        "outputId": "5c4b4455-e10b-4309-f797-b054612d8de0"
      },
      "execution_count": null,
      "outputs": [
        {
          "output_type": "stream",
          "name": "stdout",
          "text": [
            "enter the number:6\n",
            "not divisible by 5 and 10\n"
          ]
        }
      ]
    }
  ]
}