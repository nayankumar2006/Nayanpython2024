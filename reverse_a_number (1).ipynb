{
  "nbformat": 4,
  "nbformat_minor": 0,
  "metadata": {
    "colab": {
      "provenance": []
    },
    "kernelspec": {
      "name": "python3",
      "display_name": "Python 3"
    },
    "language_info": {
      "name": "python"
    }
  },
  "cells": [
    {
      "cell_type": "code",
      "execution_count": null,
      "metadata": {
        "id": "NeT0cjtuMiNH"
      },
      "outputs": [],
      "source": []
    },
    {
      "cell_type": "code",
      "source": [
        "num=int(input(\"enter a number:\"))\n",
        "reverse=0\n",
        "while num>0:\n",
        "  reverse=reverse*10+num%10\n",
        "  num//=10\n",
        "print(\"reversed number:\",reverse)"
      ],
      "metadata": {
        "colab": {
          "base_uri": "https://localhost:8080/"
        },
        "id": "tdWUX3zWLxEh",
        "outputId": "853810a8-9235-4922-97fa-4923b9ee87ad"
      },
      "execution_count": null,
      "outputs": [
        {
          "output_type": "stream",
          "name": "stdout",
          "text": [
            "enter a number:6\n",
            "reversed number: 6\n"
          ]
        }
      ]
    }
  ]
}